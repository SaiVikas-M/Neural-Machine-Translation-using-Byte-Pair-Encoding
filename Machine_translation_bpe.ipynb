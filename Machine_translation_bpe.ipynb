{
  "nbformat": 4,
  "nbformat_minor": 0,
  "metadata": {
    "kernelspec": {
      "display_name": "Python 3",
      "language": "python",
      "name": "python3"
    },
    "language_info": {
      "codemirror_mode": {
        "name": "ipython",
        "version": 3
      },
      "file_extension": ".py",
      "mimetype": "text/x-python",
      "name": "python",
      "nbconvert_exporter": "python",
      "pygments_lexer": "ipython3",
      "version": "3.6.3"
    },
    "colab": {
      "name": "Machine_translation_bpe.ipynb",
      "provenance": [],
      "collapsed_sections": []
    },
    "accelerator": "GPU"
  },
  "cells": [
    {
      "cell_type": "markdown",
      "metadata": {
        "id": "_D6_J-Uxlvb-"
      },
      "source": [
        "# Machine Translation using byte pair encoding\n",
        "\n",
        "### Introduction\n",
        "In this notebook, we will see how to create a language translation model which is an application of neural machine translation. We will be using the packages from keras at first and we will also test the same model and dataset with Byte-pair encoding for better results. \n",
        "\n"
      ]
    },
    {
      "cell_type": "markdown",
      "metadata": {
        "id": "pzML3GtyJMAg"
      },
      "source": [
        "## Loading the Data\n",
        "\n",
        "Out first objective for this is to load the libraries and get the required data. For this project we have a french text file and an english text document each having 137860 sentences. In language translation projects this can be considered as a moderately sized data as we find models with very large data. We are currently using GPU provided by Google Colab."
      ]
    },
    {
      "cell_type": "code",
      "metadata": {
        "id": "Qeq3uQp1l1Ef"
      },
      "source": [
        "import re, collections\n",
        "\n",
        "import helper\n",
        "import numpy as np\n",
        "import matplotlib.pyplot as plt\n",
        "\n",
        "from keras.preprocessing.text import Tokenizer\n",
        "from keras.preprocessing.sequence import pad_sequences\n",
        "from keras.models import Model, Sequential\n",
        "from keras.layers import GRU, Input, Dense, TimeDistributed, Activation, RepeatVector, Bidirectional, Dropout, LSTM\n",
        "from keras.layers.embeddings import Embedding\n",
        "from keras.optimizers import Adam, SGD\n",
        "from keras.losses import sparse_categorical_crossentropy\n",
        "from sklearn.model_selection import train_test_split\n",
        "from keras.regularizers import L1L2"
      ],
      "execution_count": 16,
      "outputs": []
    },
    {
      "cell_type": "markdown",
      "metadata": {
        "id": "Kb8Uk14Nl8OB"
      },
      "source": [
        "### Enabling and testing the GPU\n",
        "\n",
        "First, you'll need to enable GPUs for the notebook:\n",
        "\n",
        "- Navigate to Edit→Notebook Settings\n",
        "- select GPU from the Hardware Accelerator drop-down\n",
        "\n",
        "Next, we'll confirm that we can connect to the GPU with tensorflow:"
      ]
    },
    {
      "cell_type": "code",
      "metadata": {
        "colab": {
          "base_uri": "https://localhost:8080/"
        },
        "id": "sSznnGr7l-X7",
        "outputId": "e2db3056-a152-449e-f972-b8f87f9f31a3"
      },
      "source": [
        "from tensorflow.python.client import device_lib\n",
        "print(device_lib.list_local_devices())"
      ],
      "execution_count": 17,
      "outputs": [
        {
          "output_type": "stream",
          "text": [
            "[name: \"/device:CPU:0\"\n",
            "device_type: \"CPU\"\n",
            "memory_limit: 268435456\n",
            "locality {\n",
            "}\n",
            "incarnation: 4001446454133006743\n",
            ", name: \"/device:GPU:0\"\n",
            "device_type: \"GPU\"\n",
            "memory_limit: 14509932544\n",
            "locality {\n",
            "  bus_id: 1\n",
            "  links {\n",
            "  }\n",
            "}\n",
            "incarnation: 608189705821413393\n",
            "physical_device_desc: \"device: 0, name: Tesla T4, pci bus id: 0000:00:04.0, compute capability: 7.5\"\n",
            "]\n"
          ],
          "name": "stdout"
        }
      ]
    },
    {
      "cell_type": "markdown",
      "metadata": {
        "id": "3B7T6c8LmAhZ"
      },
      "source": [
        "### Load Data\n",
        "\n",
        "All the data can be found in the same github repository. We first load the data from our text files into english_sentences and french_sentences sentences respectively by reading each line of the text file by cleaning the line. We have found a preprocessed clean dataset we just need to do small changes to it like removing the unnecessary trailing spaces, converting the text to lower case and removing punctuation to create better bag of vocabulary."
      ]
    },
    {
      "cell_type": "code",
      "metadata": {
        "colab": {
          "base_uri": "https://localhost:8080/"
        },
        "id": "vH7BBWgfmDXD",
        "outputId": "9004f698-ad19-41e8-c003-5df1b60a3599"
      },
      "source": [
        "# Load English data\n",
        "eng_file = 'English_data.txt'\n",
        "fre_file = 'French_data.txt'\n",
        "english_sentences = []\n",
        "max_len = 0\n",
        "with open(eng_file) as f:\n",
        "    for line in f:\n",
        "      if len(line) > max_len:\n",
        "        max_len = len(line)\n",
        "      line = line.rstrip()\n",
        "      line = line.lower()\n",
        "      line = re.sub(r'[^\\w\\s]', '', line)\n",
        "      english_sentences.append(line)\n",
        "# Load French data\n",
        "french_sentences = []\n",
        "with open(fre_file) as f:\n",
        "    for line in f:\n",
        "      if len(line) > max_len:\n",
        "        max_len = len(line)\n",
        "      line = line.rstrip()\n",
        "      line = line.lower()\n",
        "      line = re.sub(r'[^\\w\\s]', '', line)\n",
        "      french_sentences.append(line)\n",
        "print('Dataset Loaded')"
      ],
      "execution_count": 18,
      "outputs": [
        {
          "output_type": "stream",
          "text": [
            "Dataset Loaded\n"
          ],
          "name": "stdout"
        }
      ]
    },
    {
      "cell_type": "markdown",
      "metadata": {
        "id": "AA1_jMzqMar3"
      },
      "source": [
        "### Sample english and french data in our dataset"
      ]
    },
    {
      "cell_type": "code",
      "metadata": {
        "id": "xAPFT0jcmPhR",
        "colab": {
          "base_uri": "https://localhost:8080/"
        },
        "outputId": "ff863f46-48e1-4f76-e48f-8b614c1e0fe7"
      },
      "source": [
        "for sample_i in range(2):\n",
        "    print('small_vocab_en Line {}:  {}'.format(sample_i + 1, english_sentences[sample_i]))\n",
        "    print('small_vocab_fr Line {}:  {}'.format(sample_i + 1, french_sentences[sample_i]))"
      ],
      "execution_count": 19,
      "outputs": [
        {
          "output_type": "stream",
          "text": [
            "small_vocab_en Line 1:  new jersey is sometimes quiet during autumn  and it is snowy in april \n",
            "small_vocab_fr Line 1:  new jersey est parfois calme pendant l automne  et il est neigeux en avril \n",
            "small_vocab_en Line 2:  the united states is usually chilly during july  and it is usually freezing in november \n",
            "small_vocab_fr Line 2:  les étatsunis est généralement froid en juillet  et il gèle habituellement en novembre \n"
          ],
          "name": "stdout"
        }
      ]
    },
    {
      "cell_type": "markdown",
      "metadata": {
        "id": "ZW5Ag2vZmFZb"
      },
      "source": [
        "## Tokenize From Keras\n",
        "\n",
        "Tokens are the building blocks of Natural Language. In order to get our computer to understand any text, we need to break that word down in a way that our machine can understand. Tokenization is a way of separating a piece of text into smaller units called tokens. Tokenization can be broadly classified into 3 types – word, character, and subword tokenization. \n",
        "\n",
        "Keras offers a library for word tokenization which can be used to create a bag of words which has all the words present in the dataset. "
      ]
    },
    {
      "cell_type": "code",
      "metadata": {
        "id": "iB7wKDeymdL9"
      },
      "source": [
        "def tokenize(x):\n",
        "\n",
        "    # Create the tokeninzer\n",
        "    t = Tokenizer()\n",
        "    # Create dictionary mapping words (str) to their rank/index (int)\n",
        "    t.fit_on_texts(x)\n",
        "    # Use the tokenizer to tokenize the text\n",
        "    text_sequences = t.texts_to_sequences(x)\n",
        "    return text_sequences, t"
      ],
      "execution_count": 20,
      "outputs": []
    },
    {
      "cell_type": "markdown",
      "metadata": {
        "id": "7ymRvBXYmhD_"
      },
      "source": [
        "## Padding\n",
        "\n",
        "All the neural networks require to have inputs that have the same shape and size. But, we can't expect all the sentences to be of the same length. So, we use padding. Padding is the process of adding the zeros to the sequence to make all the samples in the same size.  \n",
        "\n",
        "We import pad_sequences from keras.preprocessing.sequence"
      ]
    },
    {
      "cell_type": "code",
      "metadata": {
        "id": "_ntkRXERmn8x"
      },
      "source": [
        "def pad(x, length=None):\n",
        "    \n",
        "    # If length equals None, set it to be the length of the longest sequence in x\n",
        "    if length == None:\n",
        "        length = len(max(x, key=len))\n",
        "        \n",
        "    # Use Keras's pad_sequences to pad the sequences with 0's\n",
        "    padded_sequences = pad_sequences(sequences=x, maxlen=length, padding='post', value=0)\n",
        "    \n",
        "    return padded_sequences"
      ],
      "execution_count": 21,
      "outputs": []
    },
    {
      "cell_type": "markdown",
      "metadata": {
        "id": "AfkzrvVcmq_C"
      },
      "source": [
        "## Data Pre-processing of input data\n",
        "\n",
        "RNN models wont accept text as input they olnly take sequences of integers. So, we'll convert the text into sequences of integers using the following preprocess methods:\n",
        "\n",
        "1. Tokenize the words into ids\n",
        "2. Add padding to make all the sequences the same length."
      ]
    },
    {
      "cell_type": "code",
      "metadata": {
        "id": "NI3V2bB1mYgC"
      },
      "source": [
        "def preprocess(x, y):\n",
        "\n",
        "    preprocess_x, x_tk = tokenize(x)\n",
        "    preprocess_y, y_tk = tokenize(y)\n",
        "\n",
        "    preprocess_x = pad(preprocess_x)\n",
        "    preprocess_y = pad(preprocess_y)\n",
        "\n",
        "    # Keras's sparse_categorical_crossentropy function requires the labels to be in 3 dimensions\n",
        "    preprocess_y = preprocess_y.reshape(*preprocess_y.shape, 1)\n",
        "\n",
        "    return preprocess_x, preprocess_y, x_tk, y_tk\n",
        "    \n",
        "english_sentences_train, english_sentences_test, french_sentences_train, french_sentences_test =\\\n",
        "    train_test_split(english_sentences, french_sentences, test_size=0.2, random_state=42)\n",
        "\n",
        "preproc_english_sentences_train, preproc_french_sentences_train, english_tokenizer_train, french_tokenizer_train =\\\n",
        "    preprocess(english_sentences_train, french_sentences_train)\n",
        "    \n",
        "max_english_sequence_length_train = preproc_english_sentences_train.shape[1]\n",
        "max_french_sequence_length_train = preproc_french_sentences_train.shape[1]\n",
        "english_vocab_size_train = len(english_tokenizer_train.word_index)\n",
        "french_vocab_size_train = len(french_tokenizer_train.word_index)"
      ],
      "execution_count": 22,
      "outputs": []
    },
    {
      "cell_type": "markdown",
      "metadata": {
        "id": "UHbwzqSnSrpb"
      },
      "source": [
        "### Tokeniztion of unknown sentences\n",
        "\n",
        "The below code displays how the sentence which is not used for tokenization i is tokenized into a sequence of integers. If you observe, some of the lists are empty. It is because of a problem called Out of Vocabulary (OOV). Out-of-vocabulary (OOV) are terms that are not part of the tokenized words found in a natural language processing environment."
      ]
    },
    {
      "cell_type": "code",
      "metadata": {
        "id": "REbUZbqonU1P",
        "colab": {
          "base_uri": "https://localhost:8080/"
        },
        "outputId": "4447e2b7-97ae-4007-8a8e-604b9d2dd869"
      },
      "source": [
        "Unknown_sentence = 'he dislikes grapefruit limes and lemons'\n",
        "Tok_data = tokenize(Unknown_sentence)\n",
        "print(Tok_data)\n",
        "## All the empty values represent Unknown data"
      ],
      "execution_count": 23,
      "outputs": [
        {
          "output_type": "stream",
          "text": [
            "([[10], [1], [], [5], [2], [3], [4], [2], [11], [1], [3], [], [12], [6], [7], [13], [1], [14], [6], [15], [2], [16], [], [4], [2], [8], [1], [3], [], [7], [9], [5], [], [4], [1], [8], [17], [9], [3]], <keras_preprocessing.text.Tokenizer object at 0x7fad4fcf7910>)\n"
          ],
          "name": "stdout"
        }
      ]
    },
    {
      "cell_type": "markdown",
      "metadata": {
        "id": "nuhE_dF6mv73"
      },
      "source": [
        "## Byte-Pair Encoding\n",
        "\n",
        "Byte-Pair Encoding aims to reduce the Out of Vocabulary words in a model with limited words in the dictionary by trying to combine word and character tokenization techniques. For example, if the model learned the relationship between \"old\", \"older\", and \"oldest\" then it could easily translate the word \"smarter\" or \"smartest\" if the dictionary has the word \"smart\" in it. A similar method can be used for a lot of words like words ending with \"ing\" (eat, eating), \"ed\" (learn, learned). We still can't tokenize for some words but it can tokenize more words than word-tokenization can which can be shown by using both the tokenizations on the same RNN model.\n",
        "\n",
        "The steps needed for BPE are\n",
        "\n",
        "1. Initialize vocabulary.\n",
        "2. Represent each word as a combination of the characters along with the special end of word token </w>.\n",
        "3. Iteratively count character pairs in all tokens of the vocabulary.\n",
        "4. Merge every occurrence of the most frequent pair, add the new character n-gram to the vocabulary.\n"
      ]
    },
    {
      "cell_type": "code",
      "metadata": {
        "id": "HrBTrj2fpshL"
      },
      "source": [
        "# Byte-Pair Encoding algorithm\n",
        "def tokenize_bpe(filename):\n",
        "  def get_vocab(filename):\n",
        "    # Creates a vocab from file\n",
        "    # Splits the word, removes punctuation, makes it lower case and adds </w> at the end\n",
        "    vocab = collections.defaultdict(int)\n",
        "    with open(filename) as f:\n",
        "        for line in f:\n",
        "            line = re.sub(r'[^\\w\\s]', '', line)\n",
        "            line = line.lower()\n",
        "            words = line.strip().split()\n",
        "            for word in words:\n",
        "                vocab[' '.join(list(word)) + ' </w>'] += 1\n",
        "\n",
        "    return vocab\n",
        "\n",
        "  def get_stats(vocab):\n",
        "      pairs = collections.defaultdict(int)\n",
        "      for word, freq in vocab.items():\n",
        "          symbols = word.split()\n",
        "          for i in range(len(symbols)-1):\n",
        "              pairs[symbols[i],symbols[i+1]] += freq\n",
        "      return pairs\n",
        "\n",
        "  def merge_vocab(pair, v_in):\n",
        "      v_out = {}\n",
        "      bigram = re.escape(' '.join(pair))\n",
        "      p = re.compile(r'(?<!\\S)' + bigram + r'(?!\\S)')\n",
        "      for word in v_in:\n",
        "          w_out = p.sub(''.join(pair), word)\n",
        "          v_out[w_out] = v_in[word]\n",
        "      return v_out\n",
        "\n",
        "  def get_tokens_from_vocab(vocab):\n",
        "      tokens_frequencies = collections.defaultdict(int)\n",
        "      vocab_tokenization = {}\n",
        "      for word, freq in vocab.items():\n",
        "          word_tokens = word.split()\n",
        "          for token in word_tokens:\n",
        "              tokens_frequencies[token] += freq\n",
        "          vocab_tokenization[''.join(word_tokens)] = word_tokens\n",
        "      return tokens_frequencies, vocab_tokenization\n",
        "\n",
        "  def measure_token_length(token):\n",
        "      if token[-4:] == '</w>':\n",
        "          return len(token[:-4]) + 1\n",
        "      else:\n",
        "          return len(token)\n",
        "\n",
        "  vocab = get_vocab(filename)\n",
        "  tokens_frequencies, vocab_tokenization = get_tokens_from_vocab(vocab)\n",
        "\n",
        "  num_merges = 10000\n",
        "  for i in range(num_merges):\n",
        "      pairs = get_stats(vocab)\n",
        "      if not pairs:\n",
        "          break\n",
        "      best = max(pairs, key=pairs.get)\n",
        "      vocab = merge_vocab(best, vocab)\n",
        "      #print('Iter: {}'.format(i))\n",
        "      #print('Best pair: {}'.format(best))\n",
        "      tokens_frequencies, vocab_tokenization = get_tokens_from_vocab(vocab)\n",
        "  return(tokens_frequencies, vocab_tokenization)\n",
        "def tokenize_word(string, sorted_tokens, unknown_token='</u>'):\n",
        "      \n",
        "    if string == '':\n",
        "        return []\n",
        "    if sorted_tokens == []:\n",
        "        return [unknown_token]\n",
        "\n",
        "    string_tokens = []\n",
        "    for i in range(len(sorted_tokens)):\n",
        "        token = sorted_tokens[i]\n",
        "        #token_reg = re.escape(token.replace('.', '[.]'))\n",
        "\n",
        "        matched_positions = [(m.start(0), m.end(0)) for m in re.finditer(token, string)]\n",
        "        if len(matched_positions) == 0:\n",
        "            continue\n",
        "        substring_end_positions = [matched_position[0] for matched_position in matched_positions]\n",
        "\n",
        "        substring_start_position = 0\n",
        "        for substring_end_position in substring_end_positions:\n",
        "            substring = string[substring_start_position:substring_end_position]\n",
        "            string_tokens += tokenize_word(string=substring, sorted_tokens=sorted_tokens[i+1:], unknown_token=unknown_token)\n",
        "            string_tokens += [token]\n",
        "            substring_start_position = substring_end_position + len(token)\n",
        "        remaining_substring = string[substring_start_position:]\n",
        "        string_tokens += tokenize_word(string=remaining_substring, sorted_tokens=sorted_tokens[i+1:], unknown_token=unknown_token)\n",
        "        break\n",
        "    return string_tokens\n",
        "def get_idx(x,sorted_tokens):\n",
        "  a = []\n",
        "  for i in x:\n",
        "    b = []\n",
        "    for j in i.split():\n",
        "      j = j+'</w>'\n",
        "      if j in sorted_tokens:\n",
        "        b.append(sorted_tokens[j])\n",
        "      else:\n",
        "        temp = tokenize_word(string=j, sorted_tokens=list(sorted_tokens.keys()), unknown_token='</u>')\n",
        "        if temp:\n",
        "          b.append(temp)\n",
        "        else:\n",
        "          b.append(0)\n",
        "    a.append(b)\n",
        "  return(a,list(sorted_tokens.keys()))"
      ],
      "execution_count": 24,
      "outputs": []
    },
    {
      "cell_type": "markdown",
      "metadata": {
        "id": "G6AY-ar9bga_"
      },
      "source": [
        "### Tokenizing input data\n",
        "\n",
        "Here we tokenize the input french and English sentences using Byte Pair Encoding. Here we are taking the number of merges as 10000, this is a hyper-parameter we set as per our data. As mentioned earlier, we append each word by '</w>'. This helps to recognize the end of words as the sentences are divided into letters before checking for pairs and '</w>' is used as the end of a word phrase. We also create a dictionary of words with indices."
      ]
    },
    {
      "cell_type": "code",
      "metadata": {
        "id": "2CLQyM-1pzPG"
      },
      "source": [
        "tokens_frequencies_en, vocab_tokenization_en = tokenize_bpe(eng_file)\n",
        "tokens_frequencies_fr, vocab_tokenization_fr = tokenize_bpe(fre_file)\n",
        "k = 1\n",
        "for i in vocab_tokenization_en:\n",
        "  vocab_tokenization_en[i] = k\n",
        "  k += 1\n",
        "k = 1\n",
        "for i in vocab_tokenization_fr:\n",
        "  vocab_tokenization_fr[i] = k\n",
        "  k += 1"
      ],
      "execution_count": 25,
      "outputs": []
    },
    {
      "cell_type": "markdown",
      "metadata": {
        "id": "9cs5VllFalDf"
      },
      "source": [
        "### Tokeniztion of unknown sentences\n",
        "\n",
        "The below code displays how the sentence which is not used for tokenization is tokenized into a sequence of integers using Byte pair encoding."
      ]
    },
    {
      "cell_type": "code",
      "metadata": {
        "id": "APfdUUAkqXQi",
        "colab": {
          "base_uri": "https://localhost:8080/"
        },
        "outputId": "24bf6e42-226f-4a33-8612-98a8c594f41f"
      },
      "source": [
        "text_sentences = [\n",
        "    'new jersey is sometimes quiet during autumn and it is snowy in april',\n",
        "    'he liked grapefruit limes and lemons']\n",
        "text_tokenized, text_tokenizer = get_idx(text_sentences,vocab_tokenization_en)\n",
        "print(text_tokenizer)\n",
        "print(text_tokenized)"
      ],
      "execution_count": 26,
      "outputs": [
        {
          "output_type": "stream",
          "text": [
            "['new</w>', 'jersey</w>', 'is</w>', 'sometimes</w>', 'quiet</w>', 'during</w>', 'autumn</w>', 'and</w>', 'it</w>', 'snowy</w>', 'in</w>', 'april</w>', 'the</w>', 'united</w>', 'states</w>', 'usually</w>', 'chilly</w>', 'july</w>', 'freezing</w>', 'november</w>', 'california</w>', 'march</w>', 'hot</w>', 'june</w>', 'mild</w>', 'cold</w>', 'september</w>', 'your</w>', 'least</w>', 'liked</w>', 'fruit</w>', 'grape</w>', 'but</w>', 'my</w>', 'apple</w>', 'his</w>', 'favorite</w>', 'orange</w>', 'paris</w>', 'relaxing</w>', 'december</w>', 'busy</w>', 'spring</w>', 'never</w>', 'our</w>', 'lemon</w>', 'january</w>', 'warm</w>', 'lime</w>', 'her</w>', 'banana</w>', 'he</w>', 'saw</w>', 'a</w>', 'old</w>', 'yellow</w>', 'truck</w>', 'india</w>', 'rainy</w>', 'that</w>', 'cat</w>', 'was</w>', 'most</w>', 'loved</w>', 'animal</w>', 'dislikes</w>', 'grapefruit</w>', 'limes</w>', 'lemons</w>', 'february</w>', 'china</w>', 'pleasant</w>', 'october</w>', 'wonderful</w>', 'nice</w>', 'summer</w>', 'france</w>', 'may</w>', 'grapes</w>', 'mangoes</w>', 'their</w>', 'mango</w>', 'pear</w>', 'august</w>', 'beautiful</w>', 'apples</w>', 'peaches</w>', 'feared</w>', 'shark</w>', 'wet</w>', 'dry</w>', 'we</w>', 'like</w>', 'oranges</w>', 'they</w>', 'pears</w>', 'she</w>', 'little</w>', 'red</w>', 'winter</w>', 'disliked</w>', 'rusty</w>', 'car</w>', 'strawberries</w>', 'i</w>', 'strawberry</w>', 'bananas</w>', 'going</w>', 'to</w>', 'next</w>', 'plan</w>', 'visit</w>', 'elephants</w>', 'were</w>', 'animals</w>', 'are</w>', 'likes</w>', 'dislike</w>', 'fall</w>', 'driving</w>', 'peach</w>', 'drives</w>', 'blue</w>', 'you</w>', 'bird</w>', 'horses</w>', 'mouse</w>', 'went</w>', 'last</w>', 'horse</w>', 'automobile</w>', 'dogs</w>', 'white</w>', 'elephant</w>', 'black</w>', 'think</w>', 'difficult</w>', 'translate</w>', 'between</w>', 'spanish</w>', 'portuguese</w>', 'big</w>', 'green</w>', 'translating</w>', 'fun</w>', 'where</w>', 'dog</w>', 'why</w>', 'might</w>', 'go</w>', 'this</w>', 'drove</w>', 'shiny</w>', 'sharks</w>', 'monkey</w>', 'how</w>', 'weather</w>', 'lion</w>', 'plans</w>', 'bear</w>', 'rabbit</w>', 'its</w>', 'chinese</w>', 'when</w>', 'eiffel</w>', 'tower</w>', 'did</w>', 'grocery</w>', 'store</w>', 'wanted</w>', 'does</w>', 'football</w>', 'field</w>', 'wants</w>', 'didnt</w>', 'snake</w>', 'snakes</w>', 'do</w>', 'easy</w>', 'thinks</w>', 'english</w>', 'french</w>', 'would</w>', 'arent</w>', 'cats</w>', 'rabbits</w>', 'has</w>', 'been</w>', 'monkeys</w>', 'lake</w>', 'bears</w>', 'school</w>', 'birds</w>', 'want</w>', 'isnt</w>', 'lions</w>', 'am</w>', 'mice</w>', 'have</w>']\n",
            "[[1, 2, 3, 4, 5, 6, 7, 8, 9, 3, 10, 11, 12], [52, 30, 67, 68, 8, 69]]\n"
          ],
          "name": "stdout"
        }
      ]
    },
    {
      "cell_type": "markdown",
      "metadata": {
        "id": "bGTV_6memLRy"
      },
      "source": [
        "### Data preprocessing using BPE"
      ]
    },
    {
      "cell_type": "code",
      "metadata": {
        "id": "OqQrge5ezzZL"
      },
      "source": [
        "def preprocess_BPE(english_sentences, french_sentences):\n",
        "  preprocess_x, x_tk = get_idx(english_sentences,vocab_tokenization_en)\n",
        "  preprocess_y, y_tk = get_idx(french_sentences,vocab_tokenization_fr)\n",
        "\n",
        "  preprocess_x = pad_sequences(preprocess_x,maxlen=max_len,padding='post')\n",
        "  preprocess_y = pad_sequences(preprocess_y,maxlen=max_len,padding='post')\n",
        "  preprocess_y = preprocess_y.reshape(*preprocess_y.shape, 1)\n",
        "  return preprocess_x, preprocess_y, x_tk, y_tk\n",
        "\n",
        "preproc_english_sentences_bpe, preproc_french_sentences_bpe, english_tokenizer_bpe, french_tokenizer_bpe=preprocess_BPE(english_sentences_train, french_sentences_train)\n",
        "english_vocab_size_bpe = len(english_tokenizer_bpe)\n",
        "french_vocab_size_bpe = len(french_tokenizer_bpe)"
      ],
      "execution_count": 27,
      "outputs": []
    },
    {
      "cell_type": "markdown",
      "metadata": {
        "id": "l6iO1Uyk0FqQ"
      },
      "source": [
        "## Models\n",
        "This sectionis to demonstrate word tokenization and byte pair encoding for two models\n",
        "\n",
        "- Model 1 is a simple RNN (Word tokenization, BPE)\n",
        "- Model 2 is a RNN with Embedding (BPE)\n"
      ]
    },
    {
      "cell_type": "markdown",
      "metadata": {
        "id": "XcbJMhRiwm6K"
      },
      "source": [
        "### Ids Back to Text\n",
        "\n",
        "The neural network will be translating the input to a sequence of unreadable numbers, which isn't the final form we want. We want the translated french sentences.  The function 'logits_to_text' will convert the output integer sequences from the neural network to the French words."
      ]
    },
    {
      "cell_type": "code",
      "metadata": {
        "id": "oD2vcazuz_nz",
        "colab": {
          "base_uri": "https://localhost:8080/"
        },
        "outputId": "a53d22c3-196c-4116-cd6f-a90a2230265c"
      },
      "source": [
        "def logits_to_text(logits, tokenizer):\n",
        "\n",
        "\n",
        "    index_to_words = {id: word for word, id in tokenizer.word_index.items()}\n",
        "    index_to_words[0] = '<PAD>'\n",
        "\n",
        "    return ' '.join([index_to_words[prediction] for prediction in np.argmax(logits, 1)])\n",
        "\n",
        "print('`logits_to_text` function loaded.')"
      ],
      "execution_count": 28,
      "outputs": [
        {
          "output_type": "stream",
          "text": [
            "`logits_to_text` function loaded.\n"
          ],
          "name": "stdout"
        }
      ]
    },
    {
      "cell_type": "markdown",
      "metadata": {
        "id": "y8UhYSi1ptvT"
      },
      "source": [
        "### RNN Models\n",
        "\n",
        "A basic RNN model is a good baseline for sequence data.  In this model, you'll build a RNN that translates English to French.\n",
        "\n",
        "    Build and train a RNN model using word embedding on x and y\n",
        "    :param input_shape: Tuple of input shape\n",
        "    :param output_sequence_length: Length of output sequence\n",
        "    :param english_vocab_size: Number of unique English words in the dataset\n",
        "    :param french_vocab_size: Number of unique French words in the dataset\n",
        "    :return: Keras model built, but not trained\n",
        " "
      ]
    },
    {
      "cell_type": "code",
      "metadata": {
        "id": "D2mxhe480Rz2",
        "colab": {
          "base_uri": "https://localhost:8080/"
        },
        "outputId": "10a054a4-5aca-4555-9fd8-d6f628bd933b"
      },
      "source": [
        "def embed_model_split(input_shape, output_sequence_length, english_vocab_size, french_vocab_size):\n",
        "\n",
        "    # RNN model with embedding layer\n",
        "    input_layer = Input(shape=input_shape[1:])\n",
        "    embedding_layer = Embedding(512, english_vocab_size)(input_layer)\n",
        "    x = GRU(512, return_sequences=True)(embedding_layer)\n",
        "    x = TimeDistributed(Dense(french_vocab_size*4, activation='relu'))(x)\n",
        "    output_layer = Dense(french_vocab_size, activation='softmax')(x)\n",
        "    \n",
        "    model = Model(inputs=input_layer, outputs=output_layer)\n",
        "    \n",
        "    # Compile the model\n",
        "    learning_rate = 0.01\n",
        "    opt = Adam(learning_rate=learning_rate)\n",
        "    model.compile(loss=sparse_categorical_crossentropy,\n",
        "                  optimizer=opt,\n",
        "                  metrics=['accuracy'])\n",
        "    return model\n",
        "\n",
        "# Pad the input \n",
        "tmp_x = pad(preproc_english_sentences_train, preproc_french_sentences_train.shape[1])\n",
        "\n",
        "# Train the neural network on the training data\n",
        "embedding_model_split_train = embed_model_split(tmp_x.shape,\n",
        "                                  max_french_sequence_length_train,\n",
        "                                  english_vocab_size_train + 1,\n",
        "                                  french_vocab_size_train + 1)\n",
        "\n",
        "hist = embedding_model_split_train.fit(tmp_x, preproc_french_sentences_train, batch_size=1024, epochs=10, validation_split=0.2)\n",
        "\n",
        "# Print prediction(s)\n",
        "print(logits_to_text(embedding_model_split_train.predict(tmp_x[:1])[0], french_tokenizer_train))"
      ],
      "execution_count": 29,
      "outputs": [
        {
          "output_type": "stream",
          "text": [
            "Epoch 1/10\n",
            "87/87 [==============================] - 32s 114ms/step - loss: 3.8145 - accuracy: 0.5129 - val_loss: 0.6742 - val_accuracy: 0.7976\n",
            "Epoch 2/10\n",
            "87/87 [==============================] - 9s 107ms/step - loss: 0.5613 - accuracy: 0.8251 - val_loss: 0.3966 - val_accuracy: 0.8666\n",
            "Epoch 3/10\n",
            "87/87 [==============================] - 9s 109ms/step - loss: 0.3684 - accuracy: 0.8759 - val_loss: 0.3244 - val_accuracy: 0.8900\n",
            "Epoch 4/10\n",
            "87/87 [==============================] - 10s 110ms/step - loss: 0.3005 - accuracy: 0.8973 - val_loss: 0.2776 - val_accuracy: 0.9044\n",
            "Epoch 5/10\n",
            "87/87 [==============================] - 10s 112ms/step - loss: 0.2606 - accuracy: 0.9097 - val_loss: 0.2645 - val_accuracy: 0.9090\n",
            "Epoch 6/10\n",
            "87/87 [==============================] - 10s 113ms/step - loss: 0.2446 - accuracy: 0.9145 - val_loss: 0.2568 - val_accuracy: 0.9110\n",
            "Epoch 7/10\n",
            "87/87 [==============================] - 10s 112ms/step - loss: 0.2371 - accuracy: 0.9167 - val_loss: 0.2489 - val_accuracy: 0.9150\n",
            "Epoch 8/10\n",
            "87/87 [==============================] - 10s 111ms/step - loss: 0.2271 - accuracy: 0.9196 - val_loss: 0.2471 - val_accuracy: 0.9152\n",
            "Epoch 9/10\n",
            "87/87 [==============================] - 10s 110ms/step - loss: 0.2219 - accuracy: 0.9212 - val_loss: 0.2409 - val_accuracy: 0.9171\n",
            "Epoch 10/10\n",
            "87/87 [==============================] - 10s 110ms/step - loss: 0.2159 - accuracy: 0.9229 - val_loss: 0.2341 - val_accuracy: 0.9193\n",
            "la france est généralement froid à lautomne mais il est calme en février <PAD> <PAD> <PAD> <PAD> <PAD> <PAD> <PAD> <PAD>\n"
          ],
          "name": "stdout"
        }
      ]
    },
    {
      "cell_type": "markdown",
      "metadata": {
        "id": "7MGNCnZGrfuq"
      },
      "source": [
        "### Ids Back to Text BPE\n",
        "\n",
        "Here we use a similar logits_to_text function to convert the output integer sequences from the neural network to the French words. Since, we used different tokenization methods we had to change the function a bit."
      ]
    },
    {
      "cell_type": "code",
      "metadata": {
        "id": "atAGWdrFvqY_"
      },
      "source": [
        "def logits_to_text_bpe(logits, index_to_words):\n",
        "\n",
        "    index_to_words = {v: k for k, v in index_to_words.items()}\n",
        "    index_to_words[0] = '<PAD>'\n",
        "    \n",
        "    return ' '.join([index_to_words[prediction] for prediction in np.argmax(logits, 1)])"
      ],
      "execution_count": 30,
      "outputs": []
    },
    {
      "cell_type": "markdown",
      "metadata": {
        "id": "HKKPkbx44sBl"
      },
      "source": [
        "### RNN for BPE\n",
        "\n",
        "We use the same model for BPE as well. So, we can  check the accuracy and compare the results. "
      ]
    },
    {
      "cell_type": "code",
      "metadata": {
        "id": "NGp0icXOYUDn",
        "colab": {
          "base_uri": "https://localhost:8080/"
        },
        "outputId": "38830672-00f7-441c-d3a2-baa5c325d93a"
      },
      "source": [
        "preproc_english_sentences_bpe, preproc_french_sentences_bpe, english_tokenizer_bpe, french_tokenizer_bpe=preprocess_BPE(english_sentences_test, french_sentences_test)\n",
        "\n",
        "tmp_x = preproc_english_sentences_bpe.reshape((-1, preproc_french_sentences_bpe.shape[-2]))\n",
        "\n",
        "embedding_model_split_train = embed_model_split(tmp_x.shape,\n",
        "                                  max_french_sequence_length_train,\n",
        "                                  english_vocab_size_train + 1,\n",
        "                                  french_vocab_size_train + 1)\n",
        "\n",
        "hist_bpe = embedding_model_split_train.fit(tmp_x, preproc_french_sentences_bpe, batch_size=1024, epochs=10, validation_split=0.2)\n",
        "\n",
        "# Print prediction(s)\n",
        "print(logits_to_text_bpe(embedding_model_split_train.predict(tmp_x[:1])[0], vocab_tokenization_fr))"
      ],
      "execution_count": 36,
      "outputs": [
        {
          "output_type": "stream",
          "text": [
            "Epoch 1/10\n",
            "22/22 [==============================] - 15s 608ms/step - loss: 6.7716 - accuracy: 0.6179 - val_loss: nan - val_accuracy: 0.8936\n",
            "Epoch 2/10\n",
            "22/22 [==============================] - 13s 608ms/step - loss: 2.5988 - accuracy: 0.8911 - val_loss: nan - val_accuracy: 0.8972\n",
            "Epoch 3/10\n",
            "22/22 [==============================] - 13s 614ms/step - loss: 0.8403 - accuracy: 0.8984 - val_loss: nan - val_accuracy: 0.9015\n",
            "Epoch 4/10\n",
            "22/22 [==============================] - 13s 604ms/step - loss: 0.5749 - accuracy: 0.9041 - val_loss: nan - val_accuracy: 0.9055\n",
            "Epoch 5/10\n",
            "22/22 [==============================] - 13s 596ms/step - loss: 0.4518 - accuracy: 0.9070 - val_loss: nan - val_accuracy: 0.9142\n",
            "Epoch 6/10\n",
            "22/22 [==============================] - 13s 592ms/step - loss: 0.3955 - accuracy: 0.9152 - val_loss: nan - val_accuracy: 0.9172\n",
            "Epoch 7/10\n",
            "22/22 [==============================] - 13s 593ms/step - loss: 0.3771 - accuracy: 0.9179 - val_loss: nan - val_accuracy: 0.9187\n",
            "Epoch 8/10\n",
            "22/22 [==============================] - 13s 600ms/step - loss: 0.3624 - accuracy: 0.9192 - val_loss: nan - val_accuracy: 0.9201\n",
            "Epoch 9/10\n",
            "22/22 [==============================] - 13s 604ms/step - loss: 0.3497 - accuracy: 0.9206 - val_loss: nan - val_accuracy: 0.9216\n",
            "Epoch 10/10\n",
            "22/22 [==============================] - 13s 602ms/step - loss: 0.3379 - accuracy: 0.9224 - val_loss: nan - val_accuracy: 0.9236\n",
            "chine</w> est</w> généralement</w> en</w> en</w> mais</w> en</w> il</w> est</w> est</w> est</w> en</w> mais</w> <PAD> <PAD> <PAD> <PAD> <PAD> <PAD> <PAD> <PAD> <PAD> <PAD> <PAD> <PAD> <PAD> <PAD> <PAD> <PAD> <PAD> <PAD> <PAD> <PAD> <PAD> <PAD> <PAD> <PAD> <PAD> <PAD> <PAD> <PAD> <PAD> <PAD> <PAD> <PAD> <PAD> <PAD> <PAD> <PAD> <PAD> <PAD> <PAD> <PAD> <PAD> <PAD> <PAD> <PAD> <PAD> <PAD> <PAD> <PAD> <PAD> <PAD> <PAD> <PAD> <PAD> <PAD> <PAD> <PAD> <PAD> <PAD> <PAD> <PAD> <PAD> <PAD> <PAD> <PAD> <PAD> <PAD> <PAD> <PAD> <PAD> <PAD> <PAD> <PAD> <PAD> <PAD> <PAD> <PAD> <PAD> <PAD> <PAD> <PAD> <PAD> <PAD> <PAD> <PAD> <PAD> <PAD> <PAD> <PAD> <PAD> <PAD> <PAD> <PAD> <PAD> <PAD> <PAD> <PAD> <PAD> <PAD> <PAD> <PAD> <PAD> <PAD>\n"
          ],
          "name": "stdout"
        }
      ]
    },
    {
      "cell_type": "markdown",
      "metadata": {
        "id": "hn9onhbnh3nU"
      },
      "source": [
        "### Accuracy \n",
        "\n",
        "Here we compare the accuracy of both models and we can clearly see that the accuracy of model using byte pair encoding is higher than word tokenized model."
      ]
    },
    {
      "cell_type": "code",
      "metadata": {
        "id": "O0FqlFJCh2Pc",
        "colab": {
          "base_uri": "https://localhost:8080/",
          "height": 279
        },
        "outputId": "661171b1-6d82-4713-896f-030dbd4407ce"
      },
      "source": [
        "acc = hist.history['val_accuracy']\n",
        "acc_bpe = hist_bpe.history['val_accuracy']\n",
        "epochs = range(1,10)\n",
        "plt.plot(acc_bpe, 'b', label='BPE model')\n",
        "plt.plot(acc, 'g', label='Word Tokenization model')\n",
        "plt.grid()\n",
        "plt.xlabel('Epochs')\n",
        "plt.ylabel('Accuracy')\n",
        "plt.legend()\n",
        "plt.show()"
      ],
      "execution_count": 37,
      "outputs": [
        {
          "output_type": "display_data",
          "data": {
            "image/png": "[encoded data removed]",
            "text/plain": [
              "<Figure size 432x288 with 1 Axes>"
            ]
          },
          "metadata": {
            "tags": [],
            "needs_background": "light"
          }
        }
      ]
    },
    {
      "cell_type": "markdown",
      "metadata": {
        "id": "4ydNrSd8YVnz"
      },
      "source": [
        "### RNN with Embedding\n",
        "\n",
        "Small changes to the model can increase the accuracy\n",
        "\n",
        "    Build and train a RNN model using word embedding on x and y\n",
        "    :param input_shape: Tuple of input shape\n",
        "    :param output_sequence_length: Length of output sequence\n",
        "    :param english_vocab_size: Number of unique English words in the dataset\n",
        "    :param french_vocab_size: Number of unique French words in the dataset\n",
        "    :return: Keras model built, but not trained\n"
      ]
    },
    {
      "cell_type": "code",
      "metadata": {
        "id": "_bF-BmOA4rUB",
        "colab": {
          "base_uri": "https://localhost:8080/"
        },
        "outputId": "d7d4586b-72e3-4e46-b902-cdd2114c62da"
      },
      "source": [
        "def embed_model(input_shape, output_sequence_length, english_vocab_size, french_vocab_size):\n",
        "\n",
        "    learning_rate = 0.005\n",
        "    \n",
        "    # TODO: Build the layers\n",
        "    model = Sequential()\n",
        "    model.add(Embedding(english_vocab_size, 256, input_length=input_shape[1], input_shape=input_shape[1:]))\n",
        "    model.add(GRU(256, return_sequences=True))    \n",
        "    model.add(TimeDistributed(Dense(1024, activation='relu')))\n",
        "    model.add(Dropout(0.5))\n",
        "    model.add(TimeDistributed(Dense(french_vocab_size, activation='softmax'))) \n",
        "\n",
        "    # Compile model\n",
        "    model.compile(loss=sparse_categorical_crossentropy,\n",
        "                  optimizer=Adam(learning_rate),\n",
        "                  metrics=['accuracy'])\n",
        "    return model\n",
        "\n",
        "#test_embed_model(embed_model)\n",
        "\n",
        "# TODO: Reshape the input\n",
        "tmp_x = preproc_english_sentences_bpe.reshape((-1, preproc_french_sentences_bpe.shape[-2]))\n",
        "\n",
        "# TODO: Train the neural network\n",
        "embed_rnn_model = embed_model(\n",
        "    tmp_x.shape,\n",
        "    preproc_french_sentences_bpe.shape[1],\n",
        "    english_vocab_size_bpe+1,\n",
        "    french_vocab_size_bpe+1)\n",
        "\n",
        "embed_rnn_model.summary()\n",
        "\n",
        "embed_rnn_model.fit(tmp_x, preproc_french_sentences_bpe, batch_size=1024, epochs=10, validation_split=0.2)\n",
        "\n",
        "# TODO: Print prediction(s)\n",
        "print(logits_to_text_bpe(embed_rnn_model.predict(tmp_x[:1])[0], vocab_tokenization_fr))"
      ],
      "execution_count": 34,
      "outputs": [
        {
          "output_type": "stream",
          "text": [
            "Model: \"sequential\"\n",
            "_________________________________________________________________\n",
            "Layer (type)                 Output Shape              Param #   \n",
            "=================================================================\n",
            "embedding_3 (Embedding)      (None, 115, 256)          51200     \n",
            "_________________________________________________________________\n",
            "gru_3 (GRU)                  (None, 115, 256)          394752    \n",
            "_________________________________________________________________\n",
            "time_distributed_3 (TimeDist (None, 115, 1024)         263168    \n",
            "_________________________________________________________________\n",
            "dropout (Dropout)            (None, 115, 1024)         0         \n",
            "_________________________________________________________________\n",
            "time_distributed_4 (TimeDist (None, 115, 345)          353625    \n",
            "=================================================================\n",
            "Total params: 1,062,745\n",
            "Trainable params: 1,062,745\n",
            "Non-trainable params: 0\n",
            "_________________________________________________________________\n",
            "Epoch 1/10\n",
            "22/22 [==============================] - 10s 366ms/step - loss: 2.0656 - accuracy: 0.7511 - val_loss: 0.4711 - val_accuracy: 0.9043\n",
            "Epoch 2/10\n",
            "22/22 [==============================] - 7s 340ms/step - loss: 0.4448 - accuracy: 0.9065 - val_loss: 0.3697 - val_accuracy: 0.9168\n",
            "Epoch 3/10\n",
            "22/22 [==============================] - 7s 340ms/step - loss: 0.3487 - accuracy: 0.9200 - val_loss: 0.2742 - val_accuracy: 0.9337\n",
            "Epoch 4/10\n",
            "22/22 [==============================] - 8s 342ms/step - loss: 0.2656 - accuracy: 0.9335 - val_loss: 0.2170 - val_accuracy: 0.9427\n",
            "Epoch 5/10\n",
            "22/22 [==============================] - 8s 344ms/step - loss: 0.2112 - accuracy: 0.9439 - val_loss: 0.1704 - val_accuracy: 0.9542\n",
            "Epoch 6/10\n",
            "22/22 [==============================] - 8s 344ms/step - loss: 0.1726 - accuracy: 0.9528 - val_loss: 0.1404 - val_accuracy: 0.9607\n",
            "Epoch 7/10\n",
            "22/22 [==============================] - 7s 340ms/step - loss: 0.1427 - accuracy: 0.9593 - val_loss: 0.1198 - val_accuracy: 0.9651\n",
            "Epoch 8/10\n",
            "22/22 [==============================] - 7s 338ms/step - loss: 0.1239 - accuracy: 0.9637 - val_loss: 0.1072 - val_accuracy: 0.9678\n",
            "Epoch 9/10\n",
            "22/22 [==============================] - 7s 337ms/step - loss: 0.1093 - accuracy: 0.9672 - val_loss: 0.0958 - val_accuracy: 0.9708\n",
            "Epoch 10/10\n",
            "22/22 [==============================] - 7s 336ms/step - loss: 0.1010 - accuracy: 0.9690 - val_loss: 0.0894 - val_accuracy: 0.9721\n",
            "chine</w> est</w> généralement</w> occupé</w> en</w> septembre</w> mais</w> il</w> est</w> parfois</w> froid</w> en</w> printemps</w> <PAD> <PAD> <PAD> <PAD> <PAD> <PAD> <PAD> <PAD> <PAD> <PAD> <PAD> <PAD> <PAD> <PAD> <PAD> <PAD> <PAD> <PAD> <PAD> <PAD> <PAD> <PAD> <PAD> <PAD> <PAD> <PAD> <PAD> <PAD> <PAD> <PAD> <PAD> <PAD> <PAD> <PAD> <PAD> <PAD> <PAD> <PAD> <PAD> <PAD> <PAD> <PAD> <PAD> <PAD> <PAD> <PAD> <PAD> <PAD> <PAD> <PAD> <PAD> <PAD> <PAD> <PAD> <PAD> <PAD> <PAD> <PAD> <PAD> <PAD> <PAD> <PAD> <PAD> <PAD> <PAD> <PAD> <PAD> <PAD> <PAD> <PAD> <PAD> <PAD> <PAD> <PAD> <PAD> <PAD> <PAD> <PAD> <PAD> <PAD> <PAD> <PAD> <PAD> <PAD> <PAD> <PAD> <PAD> <PAD> <PAD> <PAD> <PAD> <PAD> <PAD> <PAD> <PAD> <PAD> <PAD> <PAD> <PAD> <PAD> <PAD> <PAD>\n"
          ],
          "name": "stdout"
        }
      ]
    },
    {
      "cell_type": "markdown",
      "metadata": {
        "id": "w7CO6SRptF74"
      },
      "source": [
        "### Test the model on the test data set\n",
        "\n",
        "See how the model trained on the training set data performs on the unseen test data."
      ]
    },
    {
      "cell_type": "code",
      "metadata": {
        "id": "J82ut0wC4-eE",
        "colab": {
          "base_uri": "https://localhost:8080/"
        },
        "outputId": "a60a4474-3fec-4ea6-c0e0-ddb07ce2a613"
      },
      "source": [
        "preproc_english_sentences_bpe, preproc_french_sentences_bpe, english_tokenizer_bpe, french_tokenizer_bpe=preprocess_BPE(english_sentences_test, french_sentences_test)\n",
        "\n",
        "test_x = preproc_english_sentences_bpe.reshape((-1, preproc_french_sentences_bpe.shape[-2]))\n",
        "\n",
        "embedding_model_score = embed_rnn_model.evaluate(test_x, preproc_french_sentences_bpe, verbose=0)\n",
        "\n",
        "print(\"Embedding model accuracy on unseen test data: {0:.2f}%\".format(embedding_model_score[1]*100))"
      ],
      "execution_count": 35,
      "outputs": [
        {
          "output_type": "stream",
          "text": [
            "Embedding model accuracy on unseen test data: 97.29%\n"
          ],
          "name": "stdout"
        }
      ]
    },
    {
      "cell_type": "markdown",
      "metadata": {
        "id": "tC73epV3ZIYN"
      },
      "source": [
        "##Enhancements\n",
        "\n",
        "This project focuses on using Byte-Pair encoding, we can use this tokenization method with different network architectures for machine translation and evaluate the models according to best practices by splitting the data into separate test & training sets. Every requirement is different, based on it we can adjust the network architecture and hyperparameters before finalizing the model."
      ]
    }
  ]
}